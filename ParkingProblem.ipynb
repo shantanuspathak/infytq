{
 "cells": [
  {
   "cell_type": "code",
   "execution_count": 2,
   "metadata": {},
   "outputs": [],
   "source": [
    "\"\"\"get 4 line input with comma separated values\n",
    "# count no of booked slots \n",
    "# if no -1\n",
    "# no of empty slots = 10- no of bookes slots\n",
    "#else no of empty slots = 10\n",
    "# return 1. list of no of empty slots in each lane\n",
    "#        2. no of waiting cars\"\"\"\n",
    "def get_input():\n",
    "    no_of_e_s =[]\n",
    "    for i in range(4):\n",
    "        b_s_str=input(\"Enter comma separated booked slots\")\n",
    "        if b_s_str[:2] == '-1':\n",
    "            no_of_e_s.append(10)\n",
    "        else:\n",
    "            #\"10,2,7,4,5\"\n",
    "            b_l= b_s_str.split(\",\")\n",
    "            no_of_e_s.append(10 - len(b_l))\n",
    "    no_waiting_cars=int(input(\"Enter no of waiting cars\"))\n",
    "    return no_of_e_s,no_waiting_cars"
   ]
  },
  {
   "cell_type": "code",
   "execution_count": 3,
   "metadata": {},
   "outputs": [],
   "source": [
    "\"\"\"\n",
    "Find the lane with maximum empty slots\n",
    "input no_of_e_s list\n",
    "Return index and symbol of the lane\n",
    "\"\"\"\n",
    "def find_max_empty(no_of_e_s):\n",
    "    m = max(no_of_e_s)\n",
    "    i = no_of_e_s.index(m)\n",
    "    return i"
   ]
  },
  {
   "cell_type": "code",
   "execution_count": 4,
   "metadata": {},
   "outputs": [],
   "source": [
    "def seq_no_generator(max_lane_index, no_waiting_cars,no_of_e_s):\n",
    "    symbol_list=['A','B','C','D']\n",
    "    first_char = symbol_list[max_lane_index]\n",
    "    empty_slots = no_of_e_s[max_lane_index]\n",
    "    starting_slot = (10 - empty_slots)+1\n",
    "    if empty_slots >= no_waiting_cars:\n",
    "        count_seq_no = no_waiting_cars\n",
    "        no_waiting_cars=0\n",
    "        empty_slots = empty_slots-no_waiting_cars\n",
    "    else:\n",
    "        count_seq_no = empty_slots\n",
    "        no_waiting_cars = no_waiting_cars-empty_slots\n",
    "        empty_slots = 0\n",
    "    no_of_e_s[max_lane_index] = empty_slots\n",
    "    seq_no=[]\n",
    "    for i in range(count_seq_no):\n",
    "        s = first_char + str(starting_slot+i)\n",
    "        seq_no.append(s)\n",
    "    return seq_no,no_of_e_s,no_waiting_cars\n",
    "    "
   ]
  },
  {
   "cell_type": "code",
   "execution_count": 6,
   "metadata": {},
   "outputs": [
    {
     "name": "stdout",
     "output_type": "stream",
     "text": [
      "Enter comma separated booked slots1,2\n",
      "Enter comma separated booked slots-1\n",
      "Enter comma separated booked slots-1\n",
      "Enter comma separated booked slots-1\n",
      "Enter no of waiting cars40\n",
      "B1 B2 B3 B4 B5 B6 B7 B8 B9 B10 C1 C2 C3 C4 C5 C6 C7 C8 C9 C10 D1 D2 D3 D4 D5 D6 D7 D8 D9 D10 A3 A4 A5 A6 A7 A8 A9 A10 X\n"
     ]
    }
   ],
   "source": [
    "no_of_e_s,no_waiting_cars = get_input()\n",
    "all_seq_no =[]\n",
    "while(no_waiting_cars > 0):\n",
    "    max_lane_index = find_max_empty(no_of_e_s)\n",
    "    if(no_of_e_s[max_lane_index]==0):\n",
    "        # No lane has a free slot so STOP\n",
    "        all_seq_no.append(\"X\")\n",
    "        break\n",
    "    seq_no,no_of_e_s,no_waiting_cars = seq_no_generator(max_lane_index, no_waiting_cars,no_of_e_s)\n",
    "    all_seq_no.extend(seq_no)\n",
    "print(\" \".join(all_seq_no))"
   ]
  }
 ],
 "metadata": {
  "kernelspec": {
   "display_name": "Python 3",
   "language": "python",
   "name": "python3"
  },
  "language_info": {
   "codemirror_mode": {
    "name": "ipython",
    "version": 3
   },
   "file_extension": ".py",
   "mimetype": "text/x-python",
   "name": "python",
   "nbconvert_exporter": "python",
   "pygments_lexer": "ipython3",
   "version": "3.7.3"
  }
 },
 "nbformat": 4,
 "nbformat_minor": 2
}
